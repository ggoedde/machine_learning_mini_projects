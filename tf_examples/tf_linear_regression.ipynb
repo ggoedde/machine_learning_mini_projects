{
 "cells": [
  {
   "cell_type": "markdown",
   "metadata": {
    "collapsed": true
   },
   "source": [
    "#### Linear Regression"
   ]
  },
  {
   "cell_type": "markdown",
   "metadata": {},
   "source": [
    "This notebook contains basic linear regression with mini-batch gradient descent using TensorFlow"
   ]
  },
  {
   "cell_type": "code",
   "execution_count": 1,
   "metadata": {
    "collapsed": true
   },
   "outputs": [],
   "source": [
    "import tensorflow as tf\n",
    "import numpy as np\n",
    "%matplotlib inline\n",
    "import matplotlib.pyplot as plt\n",
    "\n",
    "# define function for generating batches\n",
    "def get_batch(epoch, batch, batch_size):\n",
    "    np.random.seed(epoch * NUM_BATCHES + batch)\n",
    "    indices = np.random.randint(N, size=batch_size)\n",
    "    x_batch = x_data_bias[indices]\n",
    "    y_batch = y_data[indices]\n",
    "    return x_batch, y_batch"
   ]
  },
  {
   "cell_type": "code",
   "execution_count": 2,
   "metadata": {
    "collapsed": true
   },
   "outputs": [],
   "source": [
    "# generate data for linear regression\n",
    "N = 100\n",
    "\n",
    "x_data = np.linspace(0, 10, N)\n",
    "# add bias term\n",
    "x_data_bias = np.c_[np.ones((N, 1)), x_data]\n",
    "m = x_data_bias.shape[1]\n",
    "\n",
    "y_data = -1.0 + 2.0*x_data + np.random.uniform(-1, 1, size=(N,))\n",
    "y_data = y_data.reshape(-1, 1)"
   ]
  },
  {
   "cell_type": "code",
   "execution_count": 3,
   "metadata": {
    "collapsed": true
   },
   "outputs": [],
   "source": [
    "tf.reset_default_graph()\n",
    "\n",
    "# create placeholders to feed data into\n",
    "X = tf.placeholder(tf.float32, shape=(None, m), name='X')\n",
    "y = tf.placeholder(tf.float32, shape=(None, 1), name='y')\n",
    "\n",
    "# create weight and bias variables which are the parameters of model\n",
    "W = tf.Variable(tf.random_normal([m, 1], -1.0, 1.0), name='W')\n",
    "b = tf.Variable(0.0, name='b')\n",
    "\n",
    "# prediction is x*W + b\n",
    "y_pred = tf.add(tf.matmul(X, W), b, name='pred')\n",
    "# use mse as loss\n",
    "mse = tf.reduce_mean(tf.square(y_pred - y), name='mse')\n",
    "\n",
    "# create optimizer, just use vanilla gradient descent\n",
    "optimizer = tf.train.GradientDescentOptimizer(learning_rate=0.001)\n",
    "# training op will be run during training\n",
    "training_op = optimizer.minimize(mse)\n",
    "\n",
    "# operation that will initialize all variables when run\n",
    "init = tf.global_variables_initializer()"
   ]
  },
  {
   "cell_type": "code",
   "execution_count": 4,
   "metadata": {
    "collapsed": true
   },
   "outputs": [],
   "source": [
    "# define some variables for training\n",
    "NUM_EPOCHS = 100\n",
    "BATCH_SIZE = 20\n",
    "NUM_BATCHES = N // BATCH_SIZE"
   ]
  },
  {
   "cell_type": "code",
   "execution_count": 5,
   "metadata": {},
   "outputs": [
    {
     "name": "stdout",
     "output_type": "stream",
     "text": [
      "Epoch: 0, Average mse: 176.31\n",
      "Epoch: 5, Average mse: 5.27\n",
      "Epoch: 10, Average mse: 0.70\n",
      "Epoch: 15, Average mse: 0.47\n",
      "Epoch: 20, Average mse: 0.54\n",
      "Epoch: 25, Average mse: 0.55\n",
      "Epoch: 30, Average mse: 0.48\n",
      "Epoch: 35, Average mse: 0.55\n",
      "Epoch: 40, Average mse: 0.61\n",
      "Epoch: 45, Average mse: 0.47\n",
      "Epoch: 50, Average mse: 0.45\n",
      "Epoch: 55, Average mse: 0.52\n",
      "Epoch: 60, Average mse: 0.53\n",
      "Epoch: 65, Average mse: 0.51\n",
      "Epoch: 70, Average mse: 0.45\n",
      "Epoch: 75, Average mse: 0.45\n",
      "Epoch: 80, Average mse: 0.48\n",
      "Epoch: 85, Average mse: 0.49\n",
      "Epoch: 90, Average mse: 0.42\n",
      "Epoch: 95, Average mse: 0.46\n"
     ]
    }
   ],
   "source": [
    "with tf.Session() as sess:\n",
    "    # initialize variables\n",
    "    sess.run(init)\n",
    "    \n",
    "    for epoch in range(NUM_EPOCHS):\n",
    "        total_mse = 0\n",
    "        for batch in range(NUM_BATCHES):\n",
    "            # get random batch\n",
    "            X_batch, y_batch = get_batch(epoch, batch, BATCH_SIZE)\n",
    "            # run training op, which will also evaluate all other operations\n",
    "            # that the training op depends on.\n",
    "            _, mse_batch = sess.run([training_op, mse], \n",
    "                                    feed_dict={X: X_batch, y:y_batch})\n",
    "            total_mse += mse_batch\n",
    "        # print average mse every 5 epochs\n",
    "        if epoch % 5 == 0:\n",
    "            print('Epoch: {0}, Average mse: {1:.2f}'.format(epoch, total_mse / NUM_BATCHES))\n",
    "    \n",
    "    # get final (optimal) values for parameters W and b\n",
    "    W_val, b_val = sess.run([W, b]) "
   ]
  },
  {
   "cell_type": "code",
   "execution_count": 6,
   "metadata": {},
   "outputs": [
    {
     "data": {
      "image/png": "[encoded data removed]",
      "text/plain": [
       "<matplotlib.figure.Figure at 0x106e3b710>"
      ]
     },
     "metadata": {},
     "output_type": "display_data"
    }
   ],
   "source": [
    "# plot the results\n",
    "plt.plot(x_data, y_data, 'bo', label='Actual data')\n",
    "plt.plot(x_data, np.dot(x_data_bias, W_val) + b_val, 'r', label='Predicted data')\n",
    "plt.legend()\n",
    "plt.show()"
   ]
  },
  {
   "cell_type": "code",
   "execution_count": null,
   "metadata": {
    "collapsed": true
   },
   "outputs": [],
   "source": []
  }
 ],
 "metadata": {
  "kernelspec": {
   "display_name": "Python 3",
   "language": "python",
   "name": "python3"
  },
  "language_info": {
   "codemirror_mode": {
    "name": "ipython",
    "version": 3
   },
   "file_extension": ".py",
   "mimetype": "text/x-python",
   "name": "python",
   "nbconvert_exporter": "python",
   "pygments_lexer": "ipython3",
   "version": "3.6.1"
  }
 },
 "nbformat": 4,
 "nbformat_minor": 2
}
